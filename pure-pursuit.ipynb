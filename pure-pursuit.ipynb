{
 "cells": [
  {
   "cell_type": "code",
   "execution_count": 14,
   "metadata": {},
   "outputs": [
    {
     "name": "stdout",
     "output_type": "stream",
     "text": [
      "BOMBER ESCAPES FROM THE SIGHT OF FIGHTER\n",
      "time=0 xf=0  yf=50  xb=80  yb=0  distance=94.34\n",
      "time=1 xf=16.96  yf=39.4  xb=90  yb=-2  distance=83.96\n",
      "time=2 xf=34.36  yf=29.54  xb=99  yb=-5  distance=73.29\n",
      "time=3 xf=52.0  yf=20.11  xb=108  yb=-9  distance=63.12\n",
      "time=4 xf=69.74  yf=10.89  xb=116  yb=-15  distance=53.01\n",
      "time=5 xf=87.2  yf=1.12  xb=125  yb=-18  distance=42.36\n",
      "time=6 xf=105.04  yf=-7.91  xb=133  yb=-23  distance=31.77\n",
      "time=7 xf=122.64  yf=-17.41  xb=141  yb=-29  distance=21.71\n",
      "time=8 xf=139.55  yf=-28.09  xb=151  yb=-28  distance=11.45\n",
      "time=9 xf=159.55  yf=-27.94  xb=160  yb=-25  distance=2.97\n",
      "The bomber is shot down or destroyed at 9 second\n"
     ]
    }
   ],
   "source": [
    "import matplotlib.pyplot as plt\n",
    "\n",
    "def purePursuit(xBomber, yBomber, xFighter, yFighter, fighterSpeed):\n",
    "    xFighterPositions = []\n",
    "    yFighterPositions = []\n",
    "    time = 0\n",
    "    escapeDistance, caughtDistance = 900, 10\n",
    "\n",
    "    print(f\"BOMBER ESCAPES FROM THE SIGHT OF FIGHTER\")\n",
    "\n",
    "    while True:\n",
    "        xFighterPositions.append(xFighter)\n",
    "        yFighterPositions.append(yFighter)\n",
    "\n",
    "        # plt.clf()\n",
    "        # plt.title(\"Simulation of a Pure Pursuit\")\n",
    "        # plt.plot(xFighterPositions, yFighterPositions, marker=\"o\", label=\"Fighter\")\n",
    "        # plt.plot(xBomber[:time + 1], yBomber[:time + 1], marker=\"o\", label=\"Bomber\")\n",
    "        # plt.xlim(-100, 200)\n",
    "        # plt.ylim(-100, 100)\n",
    "        # plt.legend()\n",
    "        # plt.grid()\n",
    "        # plt.pause(1)\n",
    "\n",
    "        distance = ((xFighter - xBomber[time]) ** 2 + (yFighter - yBomber[time]) ** 2) ** 0.5\n",
    "\n",
    "        print(f\"time={time} xf={round(xFighterPositions[time], 2)}  yf={round(yFighterPositions[time], 2)}  xb={round(xBomber[time], 2)}  yb={round(yBomber[time], 2)}  distance={round(distance, 2)}\")\n",
    "\n",
    "        if distance < caughtDistance:\n",
    "            print(f\"The bomber is shot down or destroyed at {time} second\")\n",
    "            break\n",
    "        if distance > escapeDistance or time > len(xBomber):\n",
    "            print(f\"The bomber plane escaped from sight at {time} second\")\n",
    "            break\n",
    "\n",
    "        sin = (yBomber[time] - yFighter) / distance   # sin (theta) = [yb(t) - yf(t)] / dist(t)\n",
    "        cos = (xBomber[time] - xFighter) / distance   # cos (theta) = [xb(t) - xf(t)] / dist(t)\n",
    "        time += 1\n",
    "        xFighter += fighterSpeed * cos\n",
    "        yFighter += fighterSpeed * sin\n",
    "\n",
    "    plt.show()\n",
    "\n",
    "def main():\n",
    "    xBomberPositions = [80, 90, 99, 108, 116, 125, 133, 141, 151, 160, 169, 179, 180]\n",
    "    yBomberPositions = [0, -2, -5, -9, -15, -18, -23, -29, -28, -25, -21, -20, -17]\n",
    "    xFighterInitial, yFighterInitial = 0, 50\n",
    "    fighterSpeed = 20\n",
    "    purePursuit(xBomberPositions, yBomberPositions, xFighterInitial, yFighterInitial, fighterSpeed)\n",
    "\n",
    "if __name__ == \"__main__\":\n",
    "    main()"
   ]
  },
  {
   "cell_type": "code",
   "execution_count": null,
   "metadata": {},
   "outputs": [],
   "source": []
  }
 ],
 "metadata": {
  "kernelspec": {
   "display_name": "Python 3",
   "language": "python",
   "name": "python3"
  },
  "language_info": {
   "codemirror_mode": {
    "name": "ipython",
    "version": 3
   },
   "file_extension": ".py",
   "mimetype": "text/x-python",
   "name": "python",
   "nbconvert_exporter": "python",
   "pygments_lexer": "ipython3",
   "version": "3.12.1"
  }
 },
 "nbformat": 4,
 "nbformat_minor": 2
}
