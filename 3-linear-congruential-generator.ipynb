{
 "cells": [
  {
   "cell_type": "code",
   "execution_count": 1,
   "metadata": {},
   "outputs": [],
   "source": [
    "def lcmGenerator(a, b, c, M, range=12): # a (multiplicative constant), b (additive constant), c (seed), and M (modulus).\n",
    "    randomNumbers = []\n",
    "    seed = c\n",
    "\n",
    "    while range:\n",
    "        randomNumbers.append(seed)\n",
    "        seed = (a * seed + b) % M # (multiplicative constant * seed + additive constant) mod Modulus\n",
    "        # if seed == randomNumbers[0]:\n",
    "        #     break\n",
    "        range -= 1\n",
    "\n",
    "    return randomNumbers"
   ]
  },
  {
   "cell_type": "code",
   "execution_count": 2,
   "metadata": {},
   "outputs": [
    {
     "name": "stdout",
     "output_type": "stream",
     "text": [
      "[10, 0, 20, 80, 60, 0, 20, 80, 60, 0, 20, 80]\n"
     ]
    }
   ],
   "source": [
    "a = int(input(\"Multiplicative constant: \"))\n",
    "b = int(input(\"Additive constant: \"))\n",
    "c = int(input(\"Seed: \"))\n",
    "M = int(input(\"Modulus: \"))\n",
    "\n",
    "randomNumbers = lcmGenerator(a, b, c, M)\n",
    "print(randomNumbers)"
   ]
  }
 ],
 "metadata": {
  "kernelspec": {
   "display_name": "Python 3",
   "language": "python",
   "name": "python3"
  },
  "language_info": {
   "codemirror_mode": {
    "name": "ipython",
    "version": 3
   },
   "file_extension": ".py",
   "mimetype": "text/x-python",
   "name": "python",
   "nbconvert_exporter": "python",
   "pygments_lexer": "ipython3",
   "version": "3.12.1"
  }
 },
 "nbformat": 4,
 "nbformat_minor": 2
}
